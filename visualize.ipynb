{
 "cells": [
  {
   "cell_type": "markdown",
   "metadata": {},
   "source": [
    "# Visualise whatsapp data\n",
    "Get more insights into the exported whatsapp data."
   ]
  },
  {
   "cell_type": "code",
   "execution_count": 1,
   "metadata": {},
   "outputs": [],
   "source": [
    "from parser import parse_lines\n",
    "import pandas as pd"
   ]
  },
  {
   "cell_type": "markdown",
   "metadata": {},
   "source": [
    "### Open the file and extract the useful while cutting out the rubbish\n",
    "\n",
    "Example how the data looks like:\n",
    "\n",
    "`DD-MM-YYYY HH:mm - NAME: MESSAGE`\n",
    "\n",
    "The code below removes all rubbish messages for example: messages with only emoticons, deleted messages, messages with only media\n",
    "\n",
    "This returns the amount of useable messages"
   ]
  },
  {
   "cell_type": "code",
   "execution_count": 2,
   "metadata": {},
   "outputs": [
    {
     "data": {
      "text/plain": [
       "37958"
      ]
     },
     "execution_count": 2,
     "metadata": {},
     "output_type": "execute_result"
    }
   ],
   "source": [
    "data = []\n",
    "with open('dataset.txt', 'r') as file:\n",
    "    # Parse the lines line by line.\n",
    "    for lines in file:    \n",
    "        parsed = parse_lines(lines)\n",
    "        \n",
    "        # Only add items to the list when they are not empty.\n",
    "        if parsed:            \n",
    "            data.append(parsed);\n",
    "len(data)"
   ]
  },
  {
   "cell_type": "markdown",
   "metadata": {},
   "source": [
    "## Turn the parsed data into a pandas dataframe\n",
    "\n",
    "Return the amount of use able."
   ]
  },
  {
   "cell_type": "code",
   "execution_count": 3,
   "metadata": {},
   "outputs": [
    {
     "data": {
      "text/plain": [
       "author\n",
       "Person 1    17848\n",
       "Person 2    20110\n",
       "Name: author, dtype: int64"
      ]
     },
     "execution_count": 3,
     "metadata": {},
     "output_type": "execute_result"
    }
   ],
   "source": [
    "df = pd.DataFrame(data, columns=['date', 'author', 'message'])\n",
    "df.groupby('author')['author'].count()"
   ]
  },
  {
   "cell_type": "code",
   "execution_count": null,
   "metadata": {},
   "outputs": [],
   "source": []
  }
 ],
 "metadata": {
  "kernelspec": {
   "display_name": "Python 3",
   "language": "python",
   "name": "python3"
  },
  "language_info": {
   "codemirror_mode": {
    "name": "ipython",
    "version": 3
   },
   "file_extension": ".py",
   "mimetype": "text/x-python",
   "name": "python",
   "nbconvert_exporter": "python",
   "pygments_lexer": "ipython3",
   "version": "3.8.2"
  }
 },
 "nbformat": 4,
 "nbformat_minor": 4
}
